{
  "nbformat": 4,
  "nbformat_minor": 0,
  "metadata": {
    "colab": {
      "provenance": [],
      "machine_shape": "hm"
    },
    "kernelspec": {
      "name": "python3",
      "display_name": "Python 3"
    },
    "language_info": {
      "name": "python"
    }
  },
  "cells": [
    {
      "cell_type": "code",
      "execution_count": null,
      "metadata": {
        "colab": {
          "base_uri": "https://localhost:8080/"
        },
        "id": "N7t1uHAMfrBm",
        "outputId": "c276f69b-7a14-43f1-a129-9846eb7b03ac"
      },
      "outputs": [
        {
          "output_type": "stream",
          "name": "stdout",
          "text": [
            "Requirement already satisfied: torch in /usr/local/lib/python3.11/dist-packages (2.6.0+cu124)\n",
            "Requirement already satisfied: torchvision in /usr/local/lib/python3.11/dist-packages (0.21.0+cu124)\n",
            "Requirement already satisfied: torchtune in /usr/local/lib/python3.11/dist-packages (0.6.1)\n",
            "Requirement already satisfied: filelock in /usr/local/lib/python3.11/dist-packages (from torch) (3.18.0)\n",
            "Requirement already satisfied: typing-extensions>=4.10.0 in /usr/local/lib/python3.11/dist-packages (from torch) (4.14.0)\n",
            "Requirement already satisfied: networkx in /usr/local/lib/python3.11/dist-packages (from torch) (3.5)\n",
            "Requirement already satisfied: jinja2 in /usr/local/lib/python3.11/dist-packages (from torch) (3.1.6)\n",
            "Requirement already satisfied: fsspec in /usr/local/lib/python3.11/dist-packages (from torch) (2025.3.2)\n",
            "Collecting nvidia-cuda-nvrtc-cu12==12.4.127 (from torch)\n",
            "  Downloading nvidia_cuda_nvrtc_cu12-12.4.127-py3-none-manylinux2014_x86_64.whl.metadata (1.5 kB)\n",
            "Collecting nvidia-cuda-runtime-cu12==12.4.127 (from torch)\n",
            "  Downloading nvidia_cuda_runtime_cu12-12.4.127-py3-none-manylinux2014_x86_64.whl.metadata (1.5 kB)\n",
            "Collecting nvidia-cuda-cupti-cu12==12.4.127 (from torch)\n",
            "  Downloading nvidia_cuda_cupti_cu12-12.4.127-py3-none-manylinux2014_x86_64.whl.metadata (1.6 kB)\n",
            "Collecting nvidia-cudnn-cu12==9.1.0.70 (from torch)\n",
            "  Downloading nvidia_cudnn_cu12-9.1.0.70-py3-none-manylinux2014_x86_64.whl.metadata (1.6 kB)\n",
            "Collecting nvidia-cublas-cu12==12.4.5.8 (from torch)\n",
            "  Downloading nvidia_cublas_cu12-12.4.5.8-py3-none-manylinux2014_x86_64.whl.metadata (1.5 kB)\n",
            "Collecting nvidia-cufft-cu12==11.2.1.3 (from torch)\n",
            "  Downloading nvidia_cufft_cu12-11.2.1.3-py3-none-manylinux2014_x86_64.whl.metadata (1.5 kB)\n",
            "Collecting nvidia-curand-cu12==10.3.5.147 (from torch)\n",
            "  Downloading nvidia_curand_cu12-10.3.5.147-py3-none-manylinux2014_x86_64.whl.metadata (1.5 kB)\n",
            "Collecting nvidia-cusolver-cu12==11.6.1.9 (from torch)\n",
            "  Downloading nvidia_cusolver_cu12-11.6.1.9-py3-none-manylinux2014_x86_64.whl.metadata (1.6 kB)\n",
            "Collecting nvidia-cusparse-cu12==12.3.1.170 (from torch)\n",
            "  Downloading nvidia_cusparse_cu12-12.3.1.170-py3-none-manylinux2014_x86_64.whl.metadata (1.6 kB)\n",
            "Requirement already satisfied: nvidia-cusparselt-cu12==0.6.2 in /usr/local/lib/python3.11/dist-packages (from torch) (0.6.2)\n",
            "Requirement already satisfied: nvidia-nccl-cu12==2.21.5 in /usr/local/lib/python3.11/dist-packages (from torch) (2.21.5)\n",
            "Requirement already satisfied: nvidia-nvtx-cu12==12.4.127 in /usr/local/lib/python3.11/dist-packages (from torch) (12.4.127)\n",
            "Collecting nvidia-nvjitlink-cu12==12.4.127 (from torch)\n",
            "  Downloading nvidia_nvjitlink_cu12-12.4.127-py3-none-manylinux2014_x86_64.whl.metadata (1.5 kB)\n",
            "Requirement already satisfied: triton==3.2.0 in /usr/local/lib/python3.11/dist-packages (from torch) (3.2.0)\n",
            "Requirement already satisfied: sympy==1.13.1 in /usr/local/lib/python3.11/dist-packages (from torch) (1.13.1)\n",
            "Requirement already satisfied: mpmath<1.4,>=1.1.0 in /usr/local/lib/python3.11/dist-packages (from sympy==1.13.1->torch) (1.3.0)\n",
            "Requirement already satisfied: numpy in /usr/local/lib/python3.11/dist-packages (from torchvision) (2.0.2)\n",
            "Requirement already satisfied: pillow!=8.3.*,>=5.3.0 in /usr/local/lib/python3.11/dist-packages (from torchvision) (11.2.1)\n",
            "Requirement already satisfied: torchdata==0.11.0 in /usr/local/lib/python3.11/dist-packages (from torchtune) (0.11.0)\n",
            "Requirement already satisfied: datasets in /usr/local/lib/python3.11/dist-packages (from torchtune) (2.14.4)\n",
            "Requirement already satisfied: huggingface_hub[hf_transfer] in /usr/local/lib/python3.11/dist-packages (from torchtune) (0.32.4)\n",
            "Requirement already satisfied: safetensors in /usr/local/lib/python3.11/dist-packages (from torchtune) (0.5.3)\n",
            "Requirement already satisfied: kagglehub in /usr/local/lib/python3.11/dist-packages (from torchtune) (0.3.12)\n",
            "Requirement already satisfied: sentencepiece in /usr/local/lib/python3.11/dist-packages (from torchtune) (0.2.0)\n",
            "Requirement already satisfied: tiktoken in /usr/local/lib/python3.11/dist-packages (from torchtune) (0.9.0)\n",
            "Requirement already satisfied: blobfile>=2 in /usr/local/lib/python3.11/dist-packages (from torchtune) (3.0.0)\n",
            "Requirement already satisfied: tokenizers in /usr/local/lib/python3.11/dist-packages (from torchtune) (0.21.1)\n",
            "Requirement already satisfied: tqdm in /usr/local/lib/python3.11/dist-packages (from torchtune) (4.67.1)\n",
            "Requirement already satisfied: omegaconf in /usr/local/lib/python3.11/dist-packages (from torchtune) (2.3.0)\n",
            "Requirement already satisfied: psutil in /usr/local/lib/python3.11/dist-packages (from torchtune) (5.9.5)\n",
            "Requirement already satisfied: urllib3>=1.25 in /usr/local/lib/python3.11/dist-packages (from torchdata==0.11.0->torchtune) (2.4.0)\n",
            "Requirement already satisfied: requests in /usr/local/lib/python3.11/dist-packages (from torchdata==0.11.0->torchtune) (2.32.3)\n",
            "Requirement already satisfied: pycryptodomex>=3.8 in /usr/local/lib/python3.11/dist-packages (from blobfile>=2->torchtune) (3.23.0)\n",
            "Requirement already satisfied: lxml>=4.9 in /usr/local/lib/python3.11/dist-packages (from blobfile>=2->torchtune) (5.4.0)\n",
            "Requirement already satisfied: pyarrow>=8.0.0 in /usr/local/lib/python3.11/dist-packages (from datasets->torchtune) (18.1.0)\n",
            "Requirement already satisfied: dill<0.3.8,>=0.3.0 in /usr/local/lib/python3.11/dist-packages (from datasets->torchtune) (0.3.7)\n",
            "Requirement already satisfied: pandas in /usr/local/lib/python3.11/dist-packages (from datasets->torchtune) (2.2.2)\n",
            "Requirement already satisfied: xxhash in /usr/local/lib/python3.11/dist-packages (from datasets->torchtune) (3.5.0)\n",
            "Requirement already satisfied: multiprocess in /usr/local/lib/python3.11/dist-packages (from datasets->torchtune) (0.70.15)\n",
            "Requirement already satisfied: aiohttp in /usr/local/lib/python3.11/dist-packages (from datasets->torchtune) (3.11.15)\n",
            "Requirement already satisfied: packaging in /usr/local/lib/python3.11/dist-packages (from datasets->torchtune) (24.2)\n",
            "Requirement already satisfied: pyyaml>=5.1 in /usr/local/lib/python3.11/dist-packages (from datasets->torchtune) (6.0.2)\n",
            "Requirement already satisfied: hf-xet<2.0.0,>=1.1.2 in /usr/local/lib/python3.11/dist-packages (from huggingface_hub[hf_transfer]->torchtune) (1.1.2)\n",
            "Requirement already satisfied: hf-transfer>=0.1.4 in /usr/local/lib/python3.11/dist-packages (from huggingface_hub[hf_transfer]->torchtune) (0.1.9)\n",
            "Requirement already satisfied: MarkupSafe>=2.0 in /usr/local/lib/python3.11/dist-packages (from jinja2->torch) (3.0.2)\n",
            "Requirement already satisfied: antlr4-python3-runtime==4.9.* in /usr/local/lib/python3.11/dist-packages (from omegaconf->torchtune) (4.9.3)\n",
            "Requirement already satisfied: regex>=2022.1.18 in /usr/local/lib/python3.11/dist-packages (from tiktoken->torchtune) (2024.11.6)\n",
            "Requirement already satisfied: aiohappyeyeballs>=2.3.0 in /usr/local/lib/python3.11/dist-packages (from aiohttp->datasets->torchtune) (2.6.1)\n",
            "Requirement already satisfied: aiosignal>=1.1.2 in /usr/local/lib/python3.11/dist-packages (from aiohttp->datasets->torchtune) (1.3.2)\n",
            "Requirement already satisfied: attrs>=17.3.0 in /usr/local/lib/python3.11/dist-packages (from aiohttp->datasets->torchtune) (25.3.0)\n",
            "Requirement already satisfied: frozenlist>=1.1.1 in /usr/local/lib/python3.11/dist-packages (from aiohttp->datasets->torchtune) (1.6.0)\n",
            "Requirement already satisfied: multidict<7.0,>=4.5 in /usr/local/lib/python3.11/dist-packages (from aiohttp->datasets->torchtune) (6.4.4)\n",
            "Requirement already satisfied: propcache>=0.2.0 in /usr/local/lib/python3.11/dist-packages (from aiohttp->datasets->torchtune) (0.3.1)\n",
            "Requirement already satisfied: yarl<2.0,>=1.17.0 in /usr/local/lib/python3.11/dist-packages (from aiohttp->datasets->torchtune) (1.20.0)\n",
            "Requirement already satisfied: charset-normalizer<4,>=2 in /usr/local/lib/python3.11/dist-packages (from requests->torchdata==0.11.0->torchtune) (3.4.2)\n",
            "Requirement already satisfied: idna<4,>=2.5 in /usr/local/lib/python3.11/dist-packages (from requests->torchdata==0.11.0->torchtune) (3.10)\n",
            "Requirement already satisfied: certifi>=2017.4.17 in /usr/local/lib/python3.11/dist-packages (from requests->torchdata==0.11.0->torchtune) (2025.4.26)\n",
            "Requirement already satisfied: python-dateutil>=2.8.2 in /usr/local/lib/python3.11/dist-packages (from pandas->datasets->torchtune) (2.9.0.post0)\n",
            "Requirement already satisfied: pytz>=2020.1 in /usr/local/lib/python3.11/dist-packages (from pandas->datasets->torchtune) (2025.2)\n",
            "Requirement already satisfied: tzdata>=2022.7 in /usr/local/lib/python3.11/dist-packages (from pandas->datasets->torchtune) (2025.2)\n",
            "Requirement already satisfied: six>=1.5 in /usr/local/lib/python3.11/dist-packages (from python-dateutil>=2.8.2->pandas->datasets->torchtune) (1.17.0)\n",
            "Downloading nvidia_cublas_cu12-12.4.5.8-py3-none-manylinux2014_x86_64.whl (363.4 MB)\n",
            "\u001b[2K   \u001b[90m━━━━━━━━━━━━━━━━━━━━━━━━━━━━━━━━━━━━━━━━\u001b[0m \u001b[32m363.4/363.4 MB\u001b[0m \u001b[31m3.5 MB/s\u001b[0m eta \u001b[36m0:00:00\u001b[0m\n",
            "\u001b[?25hDownloading nvidia_cuda_cupti_cu12-12.4.127-py3-none-manylinux2014_x86_64.whl (13.8 MB)\n",
            "\u001b[2K   \u001b[90m━━━━━━━━━━━━━━━━━━━━━━━━━━━━━━━━━━━━━━━━\u001b[0m \u001b[32m13.8/13.8 MB\u001b[0m \u001b[31m92.3 MB/s\u001b[0m eta \u001b[36m0:00:00\u001b[0m\n",
            "\u001b[?25hDownloading nvidia_cuda_nvrtc_cu12-12.4.127-py3-none-manylinux2014_x86_64.whl (24.6 MB)\n",
            "\u001b[2K   \u001b[90m━━━━━━━━━━━━━━━━━━━━━━━━━━━━━━━━━━━━━━━━\u001b[0m \u001b[32m24.6/24.6 MB\u001b[0m \u001b[31m41.4 MB/s\u001b[0m eta \u001b[36m0:00:00\u001b[0m\n",
            "\u001b[?25hDownloading nvidia_cuda_runtime_cu12-12.4.127-py3-none-manylinux2014_x86_64.whl (883 kB)\n",
            "\u001b[2K   \u001b[90m━━━━━━━━━━━━━━━━━━━━━━━━━━━━━━━━━━━━━━━━\u001b[0m \u001b[32m883.7/883.7 kB\u001b[0m \u001b[31m52.3 MB/s\u001b[0m eta \u001b[36m0:00:00\u001b[0m\n",
            "\u001b[?25hDownloading nvidia_cudnn_cu12-9.1.0.70-py3-none-manylinux2014_x86_64.whl (664.8 MB)\n",
            "\u001b[2K   \u001b[90m━━━━━━━━━━━━━━━━━━━━━━━━━━━━━━━━━━━━━━━━\u001b[0m \u001b[32m664.8/664.8 MB\u001b[0m \u001b[31m2.9 MB/s\u001b[0m eta \u001b[36m0:00:00\u001b[0m\n",
            "\u001b[?25hDownloading nvidia_cufft_cu12-11.2.1.3-py3-none-manylinux2014_x86_64.whl (211.5 MB)\n",
            "\u001b[2K   \u001b[90m━━━━━━━━━━━━━━━━━━━━━━━━━━━━━━━━━━━━━━━━\u001b[0m \u001b[32m211.5/211.5 MB\u001b[0m \u001b[31m5.0 MB/s\u001b[0m eta \u001b[36m0:00:00\u001b[0m\n",
            "\u001b[?25hDownloading nvidia_curand_cu12-10.3.5.147-py3-none-manylinux2014_x86_64.whl (56.3 MB)\n",
            "\u001b[2K   \u001b[90m━━━━━━━━━━━━━━━━━━━━━━━━━━━━━━━━━━━━━━━━\u001b[0m \u001b[32m56.3/56.3 MB\u001b[0m \u001b[31m44.7 MB/s\u001b[0m eta \u001b[36m0:00:00\u001b[0m\n",
            "\u001b[?25hDownloading nvidia_cusolver_cu12-11.6.1.9-py3-none-manylinux2014_x86_64.whl (127.9 MB)\n",
            "\u001b[2K   \u001b[90m━━━━━━━━━━━━━━━━━━━━━━━━━━━━━━━━━━━━━━━━\u001b[0m \u001b[32m127.9/127.9 MB\u001b[0m \u001b[31m21.0 MB/s\u001b[0m eta \u001b[36m0:00:00\u001b[0m\n",
            "\u001b[?25hDownloading nvidia_cusparse_cu12-12.3.1.170-py3-none-manylinux2014_x86_64.whl (207.5 MB)\n",
            "\u001b[2K   \u001b[90m━━━━━━━━━━━━━━━━━━━━━━━━━━━━━━━━━━━━━━━━\u001b[0m \u001b[32m207.5/207.5 MB\u001b[0m \u001b[31m4.3 MB/s\u001b[0m eta \u001b[36m0:00:00\u001b[0m\n",
            "\u001b[?25hDownloading nvidia_nvjitlink_cu12-12.4.127-py3-none-manylinux2014_x86_64.whl (21.1 MB)\n",
            "\u001b[2K   \u001b[90m━━━━━━━━━━━━━━━━━━━━━━━━━━━━━━━━━━━━━━━━\u001b[0m \u001b[32m21.1/21.1 MB\u001b[0m \u001b[31m93.7 MB/s\u001b[0m eta \u001b[36m0:00:00\u001b[0m\n",
            "\u001b[?25hInstalling collected packages: nvidia-nvjitlink-cu12, nvidia-curand-cu12, nvidia-cufft-cu12, nvidia-cuda-runtime-cu12, nvidia-cuda-nvrtc-cu12, nvidia-cuda-cupti-cu12, nvidia-cublas-cu12, nvidia-cusparse-cu12, nvidia-cudnn-cu12, nvidia-cusolver-cu12\n",
            "  Attempting uninstall: nvidia-nvjitlink-cu12\n",
            "    Found existing installation: nvidia-nvjitlink-cu12 12.5.82\n",
            "    Uninstalling nvidia-nvjitlink-cu12-12.5.82:\n",
            "      Successfully uninstalled nvidia-nvjitlink-cu12-12.5.82\n",
            "  Attempting uninstall: nvidia-curand-cu12\n",
            "    Found existing installation: nvidia-curand-cu12 10.3.6.82\n",
            "    Uninstalling nvidia-curand-cu12-10.3.6.82:\n",
            "      Successfully uninstalled nvidia-curand-cu12-10.3.6.82\n",
            "  Attempting uninstall: nvidia-cufft-cu12\n",
            "    Found existing installation: nvidia-cufft-cu12 11.2.3.61\n",
            "    Uninstalling nvidia-cufft-cu12-11.2.3.61:\n",
            "      Successfully uninstalled nvidia-cufft-cu12-11.2.3.61\n",
            "  Attempting uninstall: nvidia-cuda-runtime-cu12\n",
            "    Found existing installation: nvidia-cuda-runtime-cu12 12.5.82\n",
            "    Uninstalling nvidia-cuda-runtime-cu12-12.5.82:\n",
            "      Successfully uninstalled nvidia-cuda-runtime-cu12-12.5.82\n",
            "  Attempting uninstall: nvidia-cuda-nvrtc-cu12\n",
            "    Found existing installation: nvidia-cuda-nvrtc-cu12 12.5.82\n",
            "    Uninstalling nvidia-cuda-nvrtc-cu12-12.5.82:\n",
            "      Successfully uninstalled nvidia-cuda-nvrtc-cu12-12.5.82\n",
            "  Attempting uninstall: nvidia-cuda-cupti-cu12\n",
            "    Found existing installation: nvidia-cuda-cupti-cu12 12.5.82\n",
            "    Uninstalling nvidia-cuda-cupti-cu12-12.5.82:\n",
            "      Successfully uninstalled nvidia-cuda-cupti-cu12-12.5.82\n",
            "  Attempting uninstall: nvidia-cublas-cu12\n",
            "    Found existing installation: nvidia-cublas-cu12 12.5.3.2\n",
            "    Uninstalling nvidia-cublas-cu12-12.5.3.2:\n",
            "      Successfully uninstalled nvidia-cublas-cu12-12.5.3.2\n",
            "  Attempting uninstall: nvidia-cusparse-cu12\n",
            "    Found existing installation: nvidia-cusparse-cu12 12.5.1.3\n",
            "    Uninstalling nvidia-cusparse-cu12-12.5.1.3:\n",
            "      Successfully uninstalled nvidia-cusparse-cu12-12.5.1.3\n",
            "  Attempting uninstall: nvidia-cudnn-cu12\n",
            "    Found existing installation: nvidia-cudnn-cu12 9.3.0.75\n",
            "    Uninstalling nvidia-cudnn-cu12-9.3.0.75:\n",
            "      Successfully uninstalled nvidia-cudnn-cu12-9.3.0.75\n",
            "  Attempting uninstall: nvidia-cusolver-cu12\n",
            "    Found existing installation: nvidia-cusolver-cu12 11.6.3.83\n",
            "    Uninstalling nvidia-cusolver-cu12-11.6.3.83:\n",
            "      Successfully uninstalled nvidia-cusolver-cu12-11.6.3.83\n",
            "Successfully installed nvidia-cublas-cu12-12.4.5.8 nvidia-cuda-cupti-cu12-12.4.127 nvidia-cuda-nvrtc-cu12-12.4.127 nvidia-cuda-runtime-cu12-12.4.127 nvidia-cudnn-cu12-9.1.0.70 nvidia-cufft-cu12-11.2.1.3 nvidia-curand-cu12-10.3.5.147 nvidia-cusolver-cu12-11.6.1.9 nvidia-cusparse-cu12-12.3.1.170 nvidia-nvjitlink-cu12-12.4.127\n"
          ]
        }
      ],
      "source": [
        "!pip install torch torchvision torchtune"
      ]
    },
    {
      "cell_type": "code",
      "source": [
        "from google.colab import drive\n",
        "drive.mount(\"/content/drive\")"
      ],
      "metadata": {
        "colab": {
          "base_uri": "https://localhost:8080/"
        },
        "id": "nwGCpc0UYFbl",
        "outputId": "9edaa9dc-0a73-489f-aaa5-4be2e366ffdf"
      },
      "execution_count": null,
      "outputs": [
        {
          "output_type": "stream",
          "name": "stdout",
          "text": [
            "Mounted at /content/drive\n"
          ]
        }
      ]
    },
    {
      "cell_type": "code",
      "source": [
        "import numpy as np\n",
        "import pandas as pd\n",
        "import matplotlib.pyplot as plt\n",
        "import seaborn as sns\n",
        "import cv2 as cv\n",
        "import os\n",
        "import math\n",
        "import torch\n",
        "from torch import nn\n",
        "from torchvision.models import densenet121, DenseNet121_Weights\n",
        "from torch.utils.data import Dataset, DataLoader, TensorDataset\n",
        "from torchvision.models.feature_extraction import get_graph_node_names, create_feature_extractor\n",
        "from torchtune.modules import RotaryPositionalEmbeddings\n",
        "from torchvision import tv_tensors\n",
        "from torchvision.transforms import v2"
      ],
      "metadata": {
        "id": "C5WvYvKagpNd"
      },
      "execution_count": null,
      "outputs": []
    },
    {
      "cell_type": "code",
      "source": [
        "max_video_length = 24\n",
        "num_features = 1024\n",
        "image_size = 128"
      ],
      "metadata": {
        "id": "_fn7BR20_m-P"
      },
      "execution_count": null,
      "outputs": []
    },
    {
      "cell_type": "markdown",
      "source": [
        "## Download data\n",
        "\n",
        "To limit the runtime of this notebook, a subsampled version (Paul, 2021) of the UCF101 dataset is used that contains only the 5 most frequent classes. It is already split into train and test data."
      ],
      "metadata": {
        "id": "hizfbTsqgknn"
      }
    },
    {
      "cell_type": "code",
      "source": [
        "!!wget -q https://github.com/sayakpaul/Action-Recognition-in-TensorFlow/releases/download/v1.0.0/ucf101_top5.tar.gz\n",
        "!tar xf ucf101_top5.tar.gz\n",
        "train_df = pd.read_csv(\"train.csv\")\n",
        "labels = list(train_df['tag'].value_counts().index)"
      ],
      "metadata": {
        "id": "Q616sEdEhirm"
      },
      "execution_count": null,
      "outputs": []
    },
    {
      "cell_type": "markdown",
      "source": [
        "As we can see, the train data are almost perfectly balanced:"
      ],
      "metadata": {
        "id": "avkHI5Y8rN2h"
      }
    },
    {
      "cell_type": "code",
      "source": [
        "sns.set_style('whitegrid')\n",
        "fig, ax = plt.subplots(figsize=(5, 2.5))\n",
        "p = sns.countplot(\n",
        "    train_df,\n",
        "    x='tag',\n",
        "    order = train_df['tag'].value_counts().index,\n",
        "    ax=ax\n",
        ")\n",
        "p.set_xlabel(None)\n",
        "p.set_ylabel(None)\n",
        "p.set_xticks(range(5))\n",
        "p.set_xticklabels(labels=labels, rotation=77)\n",
        "p.set_title(\"Number of samples per action type\")\n",
        "plt.show()"
      ],
      "metadata": {
        "colab": {
          "base_uri": "https://localhost:8080/",
          "height": 359
        },
        "id": "BHktqvc-ql9J",
        "outputId": "6e13acb3-d31e-482d-b336-a8125e775605"
      },
      "execution_count": null,
      "outputs": [
        {
          "output_type": "display_data",
          "data": {
            "text/plain": [
              "<Figure size 500x250 with 1 Axes>"
            ],
            "image/png": "[encoded data removed]"
          },
          "metadata": {}
        }
      ]
    },
    {
      "cell_type": "markdown",
      "source": [
        "## Define feature extractor\n",
        "\n",
        "A pre-trained image classification model will be used to extract features from the video frames\n"
      ],
      "metadata": {
        "id": "0vnr4arksRNJ"
      }
    },
    {
      "cell_type": "code",
      "source": [
        "class FeatureExtractor():\n",
        "\n",
        "    def __init__(\n",
        "        self,\n",
        "        model,\n",
        "        weights\n",
        "    ):\n",
        "        model = model(weights = weights)\n",
        "        model.eval()\n",
        "        self.model = model\n",
        "        self.preprocessing = weights.transforms()\n",
        "        nodes, _ = get_graph_node_names(self.model)\n",
        "        self.nodes = nodes\n",
        "\n",
        "    def extract(\n",
        "        self,\n",
        "        layer_idx,\n",
        "        model_input\n",
        "    ):\n",
        "        return_node_name = self.nodes[layer_idx]\n",
        "        return_nodes = {return_node_name: return_node_name}\n",
        "        extractor = create_feature_extractor(\n",
        "            self.model,\n",
        "            return_nodes=return_nodes\n",
        "        )\n",
        "        preprocessed_input = self.preprocessing(model_input)\n",
        "        features = extractor(preprocessed_input)\n",
        "        node_features = features[return_node_name]\n",
        "\n",
        "        return node_features.clone().detach()"
      ],
      "metadata": {
        "id": "N-KSeZYvsP-f"
      },
      "execution_count": null,
      "outputs": []
    },
    {
      "cell_type": "markdown",
      "source": [
        "## Helper functions for data preparation and augmentation"
      ],
      "metadata": {
        "id": "fVWejmXiY-Yl"
      }
    },
    {
      "cell_type": "code",
      "source": [
        "# The following method was taken from this tutorial:\n",
        "# https://www.tensorflow.org/hub/tutorials/action_recognition_with_tf_hub\n",
        "\n",
        "\n",
        "def crop_center_square(frame):\n",
        "    '''\n",
        "    crop captured frame such that\n",
        "    resulting image has square shape\n",
        "    '''\n",
        "    y, x = frame.shape[0:2]\n",
        "    min_dim = min(y, x)\n",
        "    start_x = (x // 2) - (min_dim // 2)\n",
        "    start_y = (y // 2) - (min_dim // 2)\n",
        "    return frame[start_y : start_y + min_dim, start_x : start_x + min_dim]\n",
        "\n",
        "def load_video(path, max_frames=24, img_size=(128, 128)):\n",
        "    video_frames = []\n",
        "    cap = cv.VideoCapture(path)\n",
        "    try:\n",
        "        while True:\n",
        "            x, frame = cap.read()\n",
        "            if not x:\n",
        "                break\n",
        "            frame = crop_center_square(frame)\n",
        "            frame = cv.resize(frame, img_size)\n",
        "            #swap color channels\n",
        "            frame = frame[:, :, [2, 1, 0]]\n",
        "            video_frames.append(frame)\n",
        "\n",
        "            if len(video_frames) == max_frames:\n",
        "                break\n",
        "    finally:\n",
        "        cap.release()\n",
        "\n",
        "    na = np.array(video_frames)\n",
        "    tt = torch.tensor(na)/255.\n",
        "    tt = tt.permute(0, 3, 1, 2)\n",
        "\n",
        "    return tt"
      ],
      "metadata": {
        "id": "d1azXHYdG8Yg"
      },
      "execution_count": null,
      "outputs": []
    },
    {
      "cell_type": "code",
      "source": [
        "def encode_labels(df):\n",
        "    unique_labels = list(df['tag'].unique())\n",
        "    label_lookup = {label: idx for idx, label in enumerate(unique_labels)}\n",
        "    encoded_labels = torch.tensor(np.array(list(map(lambda l: label_lookup[l],\n",
        "                                                    df['tag']))))\n",
        "\n",
        "    return encoded_labels\n",
        "\n",
        "def extract_and_pad(video_frames, fx, transform=None):\n",
        "    if transform is not None:\n",
        "        video_frames = transform(video_frames)\n",
        "\n",
        "    video_features = fx.extract(-2, video_frames)\n",
        "\n",
        "    #add padding where necessary\n",
        "    if video_features.shape[0] < max_video_length:\n",
        "        diff = max_video_length - video_features.shape[0]\n",
        "        padding = torch.zeros((diff, num_features))\n",
        "        video_features = torch.cat((video_features, padding))\n",
        "\n",
        "    video_features = video_features.unsqueeze(0)\n",
        "\n",
        "    return video_features\n",
        "\n",
        "def prepare_train_samples(df, root_dir, fx, transform=None):\n",
        "    labels = encode_labels(df)\n",
        "    num_samples = len(df)\n",
        "    video_paths = df[\"video_name\"].values.tolist()\n",
        "\n",
        "    all_frame_features1 = torch.zeros(\n",
        "        (num_samples, max_video_length, num_features)\n",
        "    )\n",
        "\n",
        "    all_frame_features2 = torch.zeros(\n",
        "        (num_samples, max_video_length, num_features)\n",
        "    )\n",
        "\n",
        "    for idx, path in enumerate(video_paths):\n",
        "\n",
        "        frames = load_video(os.path.join(root_dir, path),\n",
        "                            img_size=(image_size, image_size))\n",
        "\n",
        "        video_features_org = extract_and_pad(frames, fx)\n",
        "        all_frame_features1[idx,] = video_features_org\n",
        "\n",
        "        video_features_trans = extract_and_pad(frames, fx, transform=transform)\n",
        "        all_frame_features2[idx,] = video_features_trans\n",
        "\n",
        "    upsampled_data = torch.cat((all_frame_features1, all_frame_features2))\n",
        "    upsampled_labels = torch.cat((labels, labels))\n",
        "\n",
        "    return upsampled_data, upsampled_labels\n",
        "\n",
        "def prepare_test_samples(df, root_dir, fx):\n",
        "    labels = encode_labels(df)\n",
        "    num_samples = len(df)\n",
        "    video_paths = df[\"video_name\"].values.tolist()\n",
        "\n",
        "    all_frame_features = torch.zeros(\n",
        "        (num_samples, max_video_length, num_features)\n",
        "    )\n",
        "\n",
        "    for idx, path in enumerate(video_paths):\n",
        "\n",
        "        frames = load_video(os.path.join(root_dir, path),\n",
        "                            img_size=(image_size, image_size))\n",
        "\n",
        "        video_features = extract_and_pad(frames, fx)\n",
        "        all_frame_features[idx,] = video_features\n",
        "\n",
        "    return all_frame_features, labels"
      ],
      "metadata": {
        "id": "iWaO-leQk5Gd"
      },
      "execution_count": null,
      "outputs": []
    },
    {
      "cell_type": "markdown",
      "source": [
        "## Build custom datasets for training and validation\n",
        "\n",
        "The following steps are performed for all samples:\n",
        "\n",
        "1. label encoding\n",
        "\n",
        "2. capture of up to 24 frames of the video\n",
        "\n",
        "3. extraction of frame features using the DenseNet121 model\n",
        "\n",
        "4. padding where video length < 24 frames\n",
        "\n",
        "Furthermore, data augmentation is performed by producing a grayscale copy of each training sample, doubling the size of the training dataset."
      ],
      "metadata": {
        "id": "dA6cACTh3V4Z"
      }
    },
    {
      "cell_type": "code",
      "source": [
        "class SubsampledActionDataset(Dataset):\n",
        "    def __init__(self, dataset_type, fx, transform=None):\n",
        "\n",
        "        self.transform = transform\n",
        "\n",
        "        if dataset_type == \"test\":\n",
        "            df = pd.read_csv(\"test.csv\")\n",
        "            self.data, self.labels = prepare_test_samples(\n",
        "                df,\n",
        "                dataset_type,\n",
        "                fx\n",
        "            )\n",
        "        else:\n",
        "            df = pd.read_csv(\"train.csv\")\n",
        "            self.data, self.labels = prepare_train_samples(\n",
        "                df,\n",
        "                dataset_type,\n",
        "                fx,\n",
        "                transform=self.transform,\n",
        "            )\n",
        "\n",
        "    def __len__(self):\n",
        "        return len(self.data)\n",
        "\n",
        "    def __getitem__(self, idx):\n",
        "        vid_features = self.data[idx]\n",
        "        vid_label = self.labels[idx]\n",
        "\n",
        "        sample = {'video': vid_features, 'action': vid_label}\n",
        "\n",
        "        return sample"
      ],
      "metadata": {
        "id": "YBsnTrgn3Nw5"
      },
      "execution_count": null,
      "outputs": []
    },
    {
      "cell_type": "code",
      "source": [
        "#!!wget -q https://github.com/sayakpaul/Action-Recognition-in-TensorFlow/releases/download/v1.0.0/ucf101_top5.tar.gz\n",
        "#!tar xf ucf101_top5.tar.gz\n",
        "\n",
        "net_fx = FeatureExtractor(densenet121, DenseNet121_Weights.IMAGENET1K_V1)\n",
        "\n",
        "action_dataset_train = SubsampledActionDataset(\n",
        "    \"train\",\n",
        "    net_fx,\n",
        "    transform=v2.Grayscale(num_output_channels=3)\n",
        ")\n",
        "\n",
        "action_dataset_val = SubsampledActionDataset(\n",
        "    \"test\",\n",
        "    net_fx\n",
        ")"
      ],
      "metadata": {
        "id": "fUvy2Asbibo_",
        "colab": {
          "base_uri": "https://localhost:8080/"
        },
        "outputId": "112eac0b-ec2e-4f80-e701-9714dc0a34e4"
      },
      "execution_count": null,
      "outputs": [
        {
          "output_type": "stream",
          "name": "stderr",
          "text": [
            "Downloading: \"https://download.pytorch.org/models/densenet121-a639ec97.pth\" to /root/.cache/torch/hub/checkpoints/densenet121-a639ec97.pth\n",
            "100%|██████████| 30.8M/30.8M [00:00<00:00, 105MB/s]\n"
          ]
        }
      ]
    },
    {
      "cell_type": "code",
      "source": [
        "torch.save(action_dataset_train, '/content/drive/My Drive/video_train.pt')\n",
        "torch.save(action_dataset_val, '/content/drive/My Drive/video_val.pt')"
      ],
      "metadata": {
        "id": "iJgKvATbz04Z"
      },
      "execution_count": null,
      "outputs": []
    },
    {
      "cell_type": "code",
      "source": [
        "action_dataset_train = torch.load('/content/drive/My Drive/video_train.pt', weights_only=False)\n",
        "action_dataset_val = torch.load('/content/drive/My Drive/video_val.pt', weights_only=False)\n",
        "train_dataloader = DataLoader(action_dataset_train, batch_size=16, shuffle=True)\n",
        "val_dataloader = DataLoader(action_dataset_val, batch_size=16, shuffle=True)"
      ],
      "metadata": {
        "id": "jVI6nTIvX7gw"
      },
      "execution_count": null,
      "outputs": []
    },
    {
      "cell_type": "markdown",
      "source": [
        "# Build video classifier with TransformerEncoder module and RoPE\n",
        "\n",
        "The features extracted from the video frames are fed into a TransformerEncoder module with Rotary Positional Embeddings. Global average pooling is performed on the encoder outputs before predictions are generated by the linear output layer."
      ],
      "metadata": {
        "id": "bBu3E2DGOHI7"
      }
    },
    {
      "cell_type": "code",
      "source": [
        "class MultiHeadAttention(nn.Module):\n",
        "    def __init__(self, d_model, num_heads):\n",
        "        super(MultiHeadAttention, self).__init__()\n",
        "        assert d_model % num_heads == 0\n",
        "\n",
        "        self.d_model = d_model # Model's dimension\n",
        "        self.num_heads = num_heads\n",
        "        self.d_k = d_model // num_heads # Dimension of each head's key, query, and value\n",
        "\n",
        "        # Linear layers for transforming inputs\n",
        "        self.W_q = nn.Linear(d_model, d_model)\n",
        "        self.W_k = nn.Linear(d_model, d_model)\n",
        "        self.W_v = nn.Linear(d_model, d_model)\n",
        "        self.W_o = nn.Linear(d_model, d_model) # Output transformation\n",
        "\n",
        "        #Rotary Positional Embeddings\n",
        "        self.rotary_pos_emb = RotaryPositionalEmbeddings(self.d_k)\n",
        "\n",
        "    def split_heads(self, x):\n",
        "        batch_size, seq_length, d_model = x.size()\n",
        "        return x.view(batch_size, seq_length, self.num_heads, self.d_k).transpose(1, 2)\n",
        "\n",
        "    def apply_rotation(self, v):\n",
        "        rotary_pos_emb = self.rotary_pos_emb(v)\n",
        "        return rotary_pos_emb\n",
        "\n",
        "    def scaled_dot_product_attention(self, Q, K, V, mask=None):\n",
        "        attn_scores = torch.matmul(Q, K.transpose(-2, -1)) / math.sqrt(self.d_k)\n",
        "\n",
        "        if mask is not None:\n",
        "            attn_scores = attn_scores.masked_fill(mask, -1e9)\n",
        "\n",
        "        attn_probs = torch.softmax(attn_scores, dim=-1)\n",
        "        output = torch.matmul(attn_probs, V)\n",
        "\n",
        "        return output\n",
        "\n",
        "    def combine_heads(self, x):\n",
        "        batch_size, _, seq_length, d_k = x.size()\n",
        "        return x.transpose(1, 2).contiguous().view(batch_size, seq_length, self.d_model)\n",
        "\n",
        "    def forward(self, x, mask=None):\n",
        "        Q = self.split_heads(self.W_q(x))\n",
        "        K = self.split_heads(self.W_k(x))\n",
        "        V = self.split_heads(self.W_v(x))\n",
        "\n",
        "        #Encode positions\n",
        "        Q = self.apply_rotation(Q)\n",
        "        K = self.apply_rotation(K)\n",
        "\n",
        "        attn_output = self.scaled_dot_product_attention(Q, K, V, mask)\n",
        "\n",
        "        # Combine heads and apply output transformation\n",
        "        output = self.W_o(self.combine_heads(attn_output))\n",
        "        return output\n",
        "\n",
        "class PositionWiseFeedForward(nn.Module):\n",
        "    def __init__(self, d_model, d_ff):\n",
        "        super(PositionWiseFeedForward, self).__init__()\n",
        "        self.fc1 = nn.Linear(d_model, d_ff)\n",
        "        self.fc2 = nn.Linear(d_ff, d_model)\n",
        "        self.relu = nn.ReLU()\n",
        "\n",
        "    def forward(self, x):\n",
        "        return self.fc2(self.relu(self.fc1(x)))\n",
        "\n",
        "class TransformerEncoder(nn.Module):\n",
        "    def __init__(self, d_model, num_heads, d_ff, dropout):\n",
        "        super(TransformerEncoder, self).__init__()\n",
        "        self.device = torch.accelerator.current_accelerator().type \\\n",
        "                      if torch.accelerator.is_available() else \"cpu\"\n",
        "        self.num_heads = num_heads\n",
        "        self.self_attention = MultiHeadAttention(d_model, num_heads)\n",
        "        self.feed_forward = PositionWiseFeedForward(d_model, d_ff)\n",
        "        self.norm1 = nn.LayerNorm(d_model)\n",
        "        self.norm2 = nn.LayerNorm(d_model)\n",
        "        self.dropout = nn.Dropout(dropout)\n",
        "\n",
        "    def generate_padding_mask(self, x):\n",
        "        padding_mask = (x[:, :, 0] == 0).unsqueeze(1).unsqueeze(2)\n",
        "        padding_mask = padding_mask.to(self.device)\n",
        "        return padding_mask\n",
        "\n",
        "    def forward(self, x):\n",
        "        padding_mask = self.generate_padding_mask(x)\n",
        "        attention_output = self.self_attention(x, mask=padding_mask)\n",
        "        x = self.norm1(x + self.dropout(attention_output))\n",
        "        ff_output = self.feed_forward(x)\n",
        "        x = self.norm2(x + self.dropout(ff_output))\n",
        "\n",
        "        return x\n",
        "\n",
        "class ClassifierModule(nn.Module):\n",
        "    def __init__(self, num_classes, num_features, cl_dropout):\n",
        "        super(ClassifierModule, self).__init__()\n",
        "        self.output_layer = nn.Linear(num_features, num_classes)\n",
        "        self.cl_dropout = nn.Dropout(cl_dropout)\n",
        "\n",
        "    def global_pool(self, x):\n",
        "        pooled_x = torch.mean(x, 1)\n",
        "        return pooled_x\n",
        "\n",
        "    def forward(self, x):\n",
        "        pooled_x = self.global_pool(x)\n",
        "        dropout = self.cl_dropout(pooled_x)\n",
        "        output = self.output_layer(dropout)\n",
        "        return output\n",
        "\n",
        "class VideoClassifier(nn.Module):\n",
        "    def __init__(\n",
        "        self,\n",
        "        num_classes,\n",
        "        num_features,\n",
        "        d_model,\n",
        "        num_heads,\n",
        "        d_ff,\n",
        "        dropout,\n",
        "        cl_dropout\n",
        "    ):\n",
        "        super(VideoClassifier, self).__init__()\n",
        "\n",
        "        self.components = nn.Sequential(\n",
        "            TransformerEncoder(d_model, num_heads, d_ff, dropout),\n",
        "            ClassifierModule(num_classes, num_features, cl_dropout),\n",
        "        )\n",
        "\n",
        "    def forward(self, x):\n",
        "        return self.components(x)"
      ],
      "metadata": {
        "id": "NoFFxmpXWqKv"
      },
      "execution_count": null,
      "outputs": []
    },
    {
      "cell_type": "code",
      "source": [
        "num_features = 1024\n",
        "d_model = num_features\n",
        "seq_length = 24\n",
        "num_classes = 5\n",
        "num_heads = 4\n",
        "d_ff = 200 #300\n",
        "dropout = 0.1\n",
        "cl_dropout = 0.2\n",
        "video_model = VideoClassifier(\n",
        "    num_classes,\n",
        "    num_features,\n",
        "    d_model,\n",
        "    num_heads,\n",
        "    d_ff,\n",
        "    dropout,\n",
        "    cl_dropout\n",
        ")\n",
        "device = torch.accelerator.current_accelerator().type \\\n",
        "                      if torch.accelerator.is_available() else \"cpu\"\n",
        "video_model = video_model.to(device)"
      ],
      "metadata": {
        "id": "-_H2fkygWphJ"
      },
      "execution_count": null,
      "outputs": []
    },
    {
      "cell_type": "markdown",
      "source": [
        "### training\n",
        "\n",
        "The model is trained for 4 epochs with the Adam optimizer (default settings), using a batch size of 16 and a scheduler that reduces the learning rate when the validation loss fails to improve for more than 2 consecutive epochs."
      ],
      "metadata": {
        "id": "rJiy2-GTex1M"
      }
    },
    {
      "cell_type": "code",
      "source": [
        "loss_func = nn.CrossEntropyLoss()\n",
        "optimizer = torch.optim.Adam(video_model.parameters())\n",
        "scheduler = torch.optim.lr_scheduler.ReduceLROnPlateau(optimizer, patience=2)\n",
        "\n",
        "def train(model, dataloader, loss_func, optimizer):\n",
        "    num_samples = len(dataloader.dataset)\n",
        "    model.train()\n",
        "    for batch_idx, batch in enumerate(dataloader):\n",
        "        batch_X, batch_y = batch['video'].to(device), batch['action'].to(device)\n",
        "        pred = model(batch_X)\n",
        "        loss = loss_func(pred, batch_y)\n",
        "\n",
        "        #backpropagation\n",
        "        loss.backward()\n",
        "        optimizer.step()\n",
        "        optimizer.zero_grad()\n",
        "\n",
        "        #print progress\n",
        "        if batch_idx % 10 == 0:\n",
        "            loss, sample_idx = loss.item(), (batch_idx + 1) * len(batch_X)\n",
        "            print(f\"training loss (batch {batch_idx}): {loss} [sample {sample_idx}/{num_samples}]\")\n",
        "\n",
        "def validate(model, dataloader, loss_func):\n",
        "    num_batches = len(dataloader)\n",
        "    num_samples = len(dataloader.dataset)\n",
        "    model.eval()\n",
        "    val_loss, correct_pred = 0, 0\n",
        "    with torch.no_grad():\n",
        "        for val_batch in dataloader:\n",
        "            X, y = val_batch['video'].to(device), val_batch['action'].to(device)\n",
        "            pred = model(X)\n",
        "            val_loss+= loss_func(pred, y).item()\n",
        "            correct_pred+= (pred.argmax(1) == y).type(torch.float).sum().item()\n",
        "    val_loss /= num_batches\n",
        "    correct_pred /= num_samples\n",
        "    print(f\"Validation results for epoch: \\n Accuracy: {(100*correct_pred):>0.1f}%, \" \\\n",
        "          f\"Avg. per-batch loss: {val_loss:>8f} \\n\")\n",
        "\n",
        "    return val_loss\n"
      ],
      "metadata": {
        "id": "29pbBw_LyIVj"
      },
      "execution_count": null,
      "outputs": []
    },
    {
      "cell_type": "code",
      "source": [
        "for epoch in range(4):\n",
        "    print(f\"Epoch {epoch+1}\\n-------------------------------\")\n",
        "    train(video_model, train_dataloader, loss_func, optimizer)\n",
        "    val_loss = validate(video_model, val_dataloader, loss_func)\n",
        "    #update learning rate\n",
        "    scheduler.step(val_loss)\n",
        "    print(\"\\n\")"
      ],
      "metadata": {
        "colab": {
          "base_uri": "https://localhost:8080/"
        },
        "id": "GjRcPbK9RY0F",
        "outputId": "794820f4-a7bc-404e-e2d0-68bef458911b"
      },
      "execution_count": null,
      "outputs": [
        {
          "output_type": "stream",
          "name": "stdout",
          "text": [
            "Epoch 1\n",
            "-------------------------------\n",
            "training loss (batch 0): 1.713446021080017 [sample 16/1188]\n",
            "training loss (batch 10): 0.0420900322496891 [sample 176/1188]\n",
            "training loss (batch 20): 0.09822942316532135 [sample 336/1188]\n",
            "training loss (batch 30): 0.05676614120602608 [sample 496/1188]\n",
            "training loss (batch 40): 0.14386054873466492 [sample 656/1188]\n",
            "training loss (batch 50): 0.00016213249182328582 [sample 816/1188]\n",
            "training loss (batch 60): 0.010039865970611572 [sample 976/1188]\n",
            "training loss (batch 70): 0.002075702417641878 [sample 1136/1188]\n",
            "Validation results for epoch: \n",
            " Accuracy: 98.2%, Avg. per-batch loss: 0.066161 \n",
            "\n",
            "\n",
            "\n",
            "Epoch 2\n",
            "-------------------------------\n",
            "training loss (batch 0): 0.0030528870411217213 [sample 16/1188]\n",
            "training loss (batch 10): 0.0014314644504338503 [sample 176/1188]\n",
            "training loss (batch 20): 0.0005880095413886011 [sample 336/1188]\n",
            "training loss (batch 30): 0.0005521089187823236 [sample 496/1188]\n",
            "training loss (batch 40): 0.00016838934971019626 [sample 656/1188]\n",
            "training loss (batch 50): 0.00028417378780432045 [sample 816/1188]\n",
            "training loss (batch 60): 0.0004253906081430614 [sample 976/1188]\n",
            "training loss (batch 70): 0.0001300268340855837 [sample 1136/1188]\n",
            "Validation results for epoch: \n",
            " Accuracy: 98.7%, Avg. per-batch loss: 0.034969 \n",
            "\n",
            "\n",
            "\n",
            "Epoch 3\n",
            "-------------------------------\n",
            "training loss (batch 0): 2.3028653231449425e-05 [sample 16/1188]\n",
            "training loss (batch 10): 3.4419917938066646e-05 [sample 176/1188]\n",
            "training loss (batch 20): 7.147071301005781e-05 [sample 336/1188]\n",
            "training loss (batch 30): 4.1870385757647455e-05 [sample 496/1188]\n",
            "training loss (batch 40): 7.361704047070816e-05 [sample 656/1188]\n",
            "training loss (batch 50): 5.4324293159879744e-05 [sample 816/1188]\n",
            "training loss (batch 60): 5.956931636319496e-05 [sample 976/1188]\n",
            "training loss (batch 70): 1.708360287011601e-05 [sample 1136/1188]\n",
            "Validation results for epoch: \n",
            " Accuracy: 98.7%, Avg. per-batch loss: 0.030031 \n",
            "\n",
            "\n",
            "\n",
            "Epoch 4\n",
            "-------------------------------\n",
            "training loss (batch 0): 2.369193134654779e-05 [sample 16/1188]\n",
            "training loss (batch 10): 3.5863995435647666e-05 [sample 176/1188]\n",
            "training loss (batch 20): 8.880956556822639e-06 [sample 336/1188]\n",
            "training loss (batch 30): 5.026560393162072e-05 [sample 496/1188]\n",
            "training loss (batch 40): 1.583181438036263e-05 [sample 656/1188]\n",
            "training loss (batch 50): 1.5884341337368824e-05 [sample 816/1188]\n",
            "training loss (batch 60): 8.977820471045561e-06 [sample 976/1188]\n",
            "training loss (batch 70): 2.0085981304873712e-05 [sample 1136/1188]\n",
            "Validation results for epoch: \n",
            " Accuracy: 99.1%, Avg. per-batch loss: 0.028852 \n",
            "\n",
            "\n",
            "\n"
          ]
        }
      ]
    },
    {
      "cell_type": "markdown",
      "source": [
        "--> The model achieves a maximum validation accuracy of 99.1%, which doesn't seem too bad."
      ],
      "metadata": {
        "id": "pdb_h9GZDyV-"
      }
    },
    {
      "cell_type": "code",
      "source": [],
      "metadata": {
        "id": "HkuWIajdEDyc"
      },
      "execution_count": null,
      "outputs": []
    }
  ]
}